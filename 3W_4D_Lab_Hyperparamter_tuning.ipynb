{
  "nbformat": 4,
  "nbformat_minor": 0,
  "metadata": {
    "colab": {
      "name": "Lab_Hyperparamter_tuning.ipynb",
      "version": "0.3.2",
      "provenance": [],
      "collapsed_sections": [],
      "include_colab_link": true
    },
    "kernelspec": {
      "name": "python3",
      "display_name": "Python 3"
    }
  },
  "cells": [
    {
      "cell_type": "markdown",
      "metadata": {
        "id": "view-in-github",
        "colab_type": "text"
      },
      "source": [
        "<a href=\"https://colab.research.google.com/github/iamMchoi/Hello-Kit/blob/master/Lab_Hyperparamter_tuning.ipynb\" target=\"_parent\"><img src=\"https://colab.research.google.com/assets/colab-badge.svg\" alt=\"Open In Colab\"/></a>"
      ]
    },
    {
      "metadata": {
        "id": "G1CLeL2q68gI",
        "colab_type": "text"
      },
      "cell_type": "markdown",
      "source": [
        "# Hyperparameter tuning"
      ]
    },
    {
      "metadata": {
        "id": "TW1mvJM17IE1",
        "colab_type": "code",
        "colab": {}
      },
      "cell_type": "code",
      "source": [
        "%matplotlib inline\n",
        "import tensorflow as tf  # deep learning library. Tensors are just multi-dimensional arrays\n",
        "import matplotlib.pyplot as plt\n",
        "import tensorflow.keras.backend as K\n",
        "import pandas as pd"
      ],
      "execution_count": 0,
      "outputs": []
    },
    {
      "metadata": {
        "id": "aYovY1PK7WAw",
        "colab_type": "text"
      },
      "cell_type": "markdown",
      "source": [
        "## Data Import"
      ]
    },
    {
      "metadata": {
        "id": "YiaKyTYP7KUE",
        "colab_type": "code",
        "outputId": "79a4ce13-ba33-433d-ad37-5557d1bf4f45",
        "colab": {
          "base_uri": "https://localhost:8080/",
          "height": 51
        }
      },
      "cell_type": "code",
      "source": [
        "mnist = tf.keras.datasets.mnist  # mnist is a dataset of 28x28 images of handwritten digits and their labels\n",
        "(x_train, y_train),(x_test, y_test) = mnist.load_data()  # unpacks images to x_train/x_test and labels to y_train/y_test"
      ],
      "execution_count": 2,
      "outputs": [
        {
          "output_type": "stream",
          "text": [
            "Downloading data from https://storage.googleapis.com/tensorflow/tf-keras-datasets/mnist.npz\n",
            "11493376/11490434 [==============================] - 0s 0us/step\n"
          ],
          "name": "stdout"
        }
      ]
    },
    {
      "metadata": {
        "id": "Xzwvjuka7Ydx",
        "colab_type": "code",
        "colab": {}
      },
      "cell_type": "code",
      "source": [
        "x_train = tf.keras.utils.normalize(x_train, axis=1)  # scales data between 0 and 1\n",
        "x_test = tf.keras.utils.normalize(x_test, axis=1)  # scales data between 0 and 1"
      ],
      "execution_count": 0,
      "outputs": []
    },
    {
      "metadata": {
        "id": "oNxXKoTh7aRi",
        "colab_type": "text"
      },
      "cell_type": "markdown",
      "source": [
        "## Compare Learning Rates"
      ]
    },
    {
      "metadata": {
        "id": "zpgWCeHE7cT4",
        "colab_type": "code",
        "colab": {}
      },
      "cell_type": "code",
      "source": [
        "from tensorflow.keras.optimizers import SGD\n",
        "\n",
        "dflist = []\n",
        "\n",
        "learning_rates = [0.01, 0.05, 0.1, 0.5]\n",
        "\n",
        "for lr in learning_rates:\n",
        "\n",
        "  K.clear_session()\n",
        "\n",
        "  model = tf.keras.models.Sequential()\n",
        "  model.add(tf.keras.layers.Flatten())  # takes our 28x28 and makes it 1x784\n",
        "  model.add(tf.keras.layers.Dense(128, activation=tf.nn.relu))  # a simple fully-connected layer, 128 units, relu activation\n",
        "  model.add(tf.keras.layers.Dense(128, activation=tf.nn.relu))  # a simple fully-connected layer, 128 units, relu activation\n",
        "  model.add(tf.keras.layers.Dense(10, activation=tf.nn.softmax))  # our output layer. 10 units for 10 classes. Softmax for probability distribution\n",
        "\n",
        "  model.compile(optimizer=SGD(lr=lr),  # Good default optimizer to start with\n",
        "                loss='sparse_categorical_crossentropy',  # how will we calculate our \"error.\" Neural network aims to minimize loss.\n",
        "                metrics=['accuracy'])  # what to track\n",
        "\n",
        "  h =  model.fit(x_train, y_train, batch_size=16, verbose=0)  \n",
        "\n",
        "  dflist.append(pd.DataFrame(h.history, index=h.epoch))"
      ],
      "execution_count": 0,
      "outputs": []
    },
    {
      "metadata": {
        "id": "0H51l_jm8uEX",
        "colab_type": "code",
        "outputId": "14859735-e691-406d-ec66-2081e93f2df6",
        "colab": {
          "base_uri": "https://localhost:8080/",
          "height": 34
        }
      },
      "cell_type": "code",
      "source": [
        "h.history.keys()"
      ],
      "execution_count": 7,
      "outputs": [
        {
          "output_type": "execute_result",
          "data": {
            "text/plain": [
              "dict_keys(['loss', 'acc'])"
            ]
          },
          "metadata": {
            "tags": []
          },
          "execution_count": 7
        }
      ]
    },
    {
      "metadata": {
        "id": "gf9ZdhFx7sJS",
        "colab_type": "code",
        "colab": {}
      },
      "cell_type": "code",
      "source": [
        "historydf = pd.concat(dflist, axis=1)"
      ],
      "execution_count": 0,
      "outputs": []
    },
    {
      "metadata": {
        "id": "s93RIFcG7gdB",
        "colab_type": "code",
        "colab": {}
      },
      "cell_type": "code",
      "source": [
        "metrics_reported = dflist[0].columns\n",
        "idx = pd.MultiIndex.from_product([learning_rates, metrics_reported],\n",
        "                                 names=['learning_rate', 'metric'])\n",
        "\n",
        "historydf.columns = idx"
      ],
      "execution_count": 0,
      "outputs": []
    },
    {
      "metadata": {
        "id": "q8LH8r7s8126",
        "colab_type": "code",
        "outputId": "a2382211-7d83-46ed-f82e-8c6b7f5d5e37",
        "colab": {
          "base_uri": "https://localhost:8080/",
          "height": 111
        }
      },
      "cell_type": "code",
      "source": [
        "historydf"
      ],
      "execution_count": 10,
      "outputs": [
        {
          "output_type": "execute_result",
          "data": {
            "text/html": [
              "<div>\n",
              "<style scoped>\n",
              "    .dataframe tbody tr th:only-of-type {\n",
              "        vertical-align: middle;\n",
              "    }\n",
              "\n",
              "    .dataframe tbody tr th {\n",
              "        vertical-align: top;\n",
              "    }\n",
              "\n",
              "    .dataframe thead tr th {\n",
              "        text-align: left;\n",
              "    }\n",
              "</style>\n",
              "<table border=\"1\" class=\"dataframe\">\n",
              "  <thead>\n",
              "    <tr>\n",
              "      <th>learning_rate</th>\n",
              "      <th colspan=\"2\" halign=\"left\">0.01</th>\n",
              "      <th colspan=\"2\" halign=\"left\">0.05</th>\n",
              "      <th colspan=\"2\" halign=\"left\">0.10</th>\n",
              "      <th colspan=\"2\" halign=\"left\">0.50</th>\n",
              "    </tr>\n",
              "    <tr>\n",
              "      <th>metric</th>\n",
              "      <th>acc</th>\n",
              "      <th>loss</th>\n",
              "      <th>acc</th>\n",
              "      <th>loss</th>\n",
              "      <th>acc</th>\n",
              "      <th>loss</th>\n",
              "      <th>acc</th>\n",
              "      <th>loss</th>\n",
              "    </tr>\n",
              "  </thead>\n",
              "  <tbody>\n",
              "    <tr>\n",
              "      <th>0</th>\n",
              "      <td>0.804367</td>\n",
              "      <td>0.767849</td>\n",
              "      <td>0.895783</td>\n",
              "      <td>0.361603</td>\n",
              "      <td>0.913883</td>\n",
              "      <td>0.289819</td>\n",
              "      <td>0.921633</td>\n",
              "      <td>0.256541</td>\n",
              "    </tr>\n",
              "  </tbody>\n",
              "</table>\n",
              "</div>"
            ],
            "text/plain": [
              "learning_rate      0.01                0.05                0.10            \\\n",
              "metric              acc      loss       acc      loss       acc      loss   \n",
              "0              0.804367  0.767849  0.895783  0.361603  0.913883  0.289819   \n",
              "\n",
              "learning_rate      0.50            \n",
              "metric              acc      loss  \n",
              "0              0.921633  0.256541  "
            ]
          },
          "metadata": {
            "tags": []
          },
          "execution_count": 10
        }
      ]
    },
    {
      "metadata": {
        "id": "zdHAw21y7jFo",
        "colab_type": "text"
      },
      "cell_type": "markdown",
      "source": [
        "## Batch Size"
      ]
    },
    {
      "metadata": {
        "id": "F3Oqw_uu7luh",
        "colab_type": "code",
        "colab": {}
      },
      "cell_type": "code",
      "source": [
        "dflist = []\n",
        "\n",
        "batch_sizes = [16, 32, 64, 128]\n",
        "\n",
        "for batch_size in batch_sizes:\n",
        "  K.clear_session()\n",
        "\n",
        "  model = tf.keras.models.Sequential()\n",
        "  model.add(tf.keras.layers.Flatten())  # takes our 28x28 and makes it 1x784\n",
        "  model.add(tf.keras.layers.Dense(128, activation=tf.nn.relu))  # a simple fully-connected layer, 128 units, relu activation\n",
        "  model.add(tf.keras.layers.Dense(128, activation=tf.nn.relu))  # a simple fully-connected layer, 128 units, relu activation\n",
        "  model.add(tf.keras.layers.Dense(10, activation=tf.nn.softmax))  # our output layer. 10 units for 10 classes. Softmax for probability distribution\n",
        "\n",
        "  model.compile(optimizer='sgd',  # Good default optimizer to start with\n",
        "                loss='sparse_categorical_crossentropy',  # how will we calculate our \"error.\" Neural network aims to minimize loss.\n",
        "                metrics=['accuracy'])  # what to track\n",
        "\n",
        "  h =  model.fit(x_train, y_train, batch_size=batch_size, verbose=0)  \n",
        "\n",
        "  dflist.append(pd.DataFrame(h.history, index=h.epoch))  "
      ],
      "execution_count": 0,
      "outputs": []
    },
    {
      "metadata": {
        "id": "oYng3HBE9aik",
        "colab_type": "code",
        "colab": {}
      },
      "cell_type": "code",
      "source": [
        "historydf = pd.concat(dflist, axis=1)\n",
        "metrics_reported = dflist[0].columns\n",
        "idx = pd.MultiIndex.from_product([batch_sizes, metrics_reported],\n",
        "                                 names=['batch_size', 'metric'])\n",
        "historydf.columns = idx"
      ],
      "execution_count": 0,
      "outputs": []
    },
    {
      "metadata": {
        "id": "hhWMLcct9bid",
        "colab_type": "code",
        "outputId": "b1b7d939-96e0-40ba-b002-8fb1629cd465",
        "colab": {
          "base_uri": "https://localhost:8080/",
          "height": 111
        }
      },
      "cell_type": "code",
      "source": [
        "historydf"
      ],
      "execution_count": 13,
      "outputs": [
        {
          "output_type": "execute_result",
          "data": {
            "text/html": [
              "<div>\n",
              "<style scoped>\n",
              "    .dataframe tbody tr th:only-of-type {\n",
              "        vertical-align: middle;\n",
              "    }\n",
              "\n",
              "    .dataframe tbody tr th {\n",
              "        vertical-align: top;\n",
              "    }\n",
              "\n",
              "    .dataframe thead tr th {\n",
              "        text-align: left;\n",
              "    }\n",
              "</style>\n",
              "<table border=\"1\" class=\"dataframe\">\n",
              "  <thead>\n",
              "    <tr>\n",
              "      <th>batch_size</th>\n",
              "      <th colspan=\"2\" halign=\"left\">16</th>\n",
              "      <th colspan=\"2\" halign=\"left\">32</th>\n",
              "      <th colspan=\"2\" halign=\"left\">64</th>\n",
              "      <th colspan=\"2\" halign=\"left\">128</th>\n",
              "    </tr>\n",
              "    <tr>\n",
              "      <th>metric</th>\n",
              "      <th>acc</th>\n",
              "      <th>loss</th>\n",
              "      <th>acc</th>\n",
              "      <th>loss</th>\n",
              "      <th>acc</th>\n",
              "      <th>loss</th>\n",
              "      <th>acc</th>\n",
              "      <th>loss</th>\n",
              "    </tr>\n",
              "  </thead>\n",
              "  <tbody>\n",
              "    <tr>\n",
              "      <th>0</th>\n",
              "      <td>0.81975</td>\n",
              "      <td>0.725545</td>\n",
              "      <td>0.74135</td>\n",
              "      <td>1.077969</td>\n",
              "      <td>0.64755</td>\n",
              "      <td>1.578685</td>\n",
              "      <td>0.502817</td>\n",
              "      <td>2.039209</td>\n",
              "    </tr>\n",
              "  </tbody>\n",
              "</table>\n",
              "</div>"
            ],
            "text/plain": [
              "batch_size      16                 32                 64                  128  \\\n",
              "metric          acc      loss      acc      loss      acc      loss       acc   \n",
              "0           0.81975  0.725545  0.74135  1.077969  0.64755  1.578685  0.502817   \n",
              "\n",
              "batch_size            \n",
              "metric          loss  \n",
              "0           2.039209  "
            ]
          },
          "metadata": {
            "tags": []
          },
          "execution_count": 13
        }
      ]
    },
    {
      "metadata": {
        "id": "PvtJZcqo9cRt",
        "colab_type": "text"
      },
      "cell_type": "markdown",
      "source": [
        "## Optimizers"
      ]
    },
    {
      "metadata": {
        "id": "Re3tla6W9fQ9",
        "colab_type": "code",
        "colab": {}
      },
      "cell_type": "code",
      "source": [
        "from tensorflow.keras.optimizers import SGD, Adam, Adagrad, RMSprop"
      ],
      "execution_count": 0,
      "outputs": []
    },
    {
      "metadata": {
        "id": "1iHWN0jS9hVt",
        "colab_type": "code",
        "colab": {}
      },
      "cell_type": "code",
      "source": [
        "dflist = []\n",
        "\n",
        "optimizers = ['SGD(lr=0.01)',\n",
        "              'SGD(lr=0.01, momentum=0.3)',\n",
        "              'SGD(lr=0.01, momentum=0.3, nesterov=True)',  \n",
        "              'Adam(lr=0.01)',\n",
        "              'Adagrad(lr=0.01)',\n",
        "              'RMSprop(lr=0.01)']\n",
        "\n",
        "for opt_name in optimizers:\n",
        "\n",
        "  model = tf.keras.models.Sequential()\n",
        "  model.add(tf.keras.layers.Flatten())  # takes our 28x28 and makes it 1x784\n",
        "  model.add(tf.keras.layers.Dense(128, activation=tf.nn.relu))  # a simple fully-connected layer, 128 units, relu activation\n",
        "  model.add(tf.keras.layers.Dense(128, activation=tf.nn.relu))  # a simple fully-connected layer, 128 units, relu activation\n",
        "  model.add(tf.keras.layers.Dense(10, activation=tf.nn.softmax))  # our output layer. 10 units for 10 classes. Softmax for probability distribution\n",
        "\n",
        "  model.compile(optimizer=eval(opt_name),  # Good default optimizer to start with\n",
        "                loss='sparse_categorical_crossentropy',  # how will we calculate our \"error.\" Neural network aims to minimize loss.\n",
        "                metrics=['accuracy'])  # what to track\n",
        "\n",
        "  h =  model.fit(x_train, y_train, batch_size=16, verbose=0, epochs=5)  \n",
        "\n",
        "  dflist.append(pd.DataFrame(h.history, index=h.epoch))     "
      ],
      "execution_count": 0,
      "outputs": []
    },
    {
      "metadata": {
        "id": "1EUs4g8E9o_8",
        "colab_type": "code",
        "colab": {}
      },
      "cell_type": "code",
      "source": [
        "historydf = pd.concat(dflist, axis=1)\n",
        "metrics_reported = dflist[0].columns\n",
        "idx = pd.MultiIndex.from_product([optimizers, metrics_reported],\n",
        "                                 names=['optimizers', 'metric'])\n",
        "historydf.columns = idx"
      ],
      "execution_count": 0,
      "outputs": []
    },
    {
      "metadata": {
        "id": "KVvXFudm9qca",
        "colab_type": "code",
        "outputId": "c20bd744-9230-482f-8ec8-fac6d9b69abc",
        "colab": {
          "base_uri": "https://localhost:8080/",
          "height": 235
        }
      },
      "cell_type": "code",
      "source": [
        "historydf"
      ],
      "execution_count": 18,
      "outputs": [
        {
          "output_type": "execute_result",
          "data": {
            "text/html": [
              "<div>\n",
              "<style scoped>\n",
              "    .dataframe tbody tr th:only-of-type {\n",
              "        vertical-align: middle;\n",
              "    }\n",
              "\n",
              "    .dataframe tbody tr th {\n",
              "        vertical-align: top;\n",
              "    }\n",
              "\n",
              "    .dataframe thead tr th {\n",
              "        text-align: left;\n",
              "    }\n",
              "</style>\n",
              "<table border=\"1\" class=\"dataframe\">\n",
              "  <thead>\n",
              "    <tr>\n",
              "      <th>optimizers</th>\n",
              "      <th colspan=\"2\" halign=\"left\">SGD(lr=0.01)</th>\n",
              "      <th colspan=\"2\" halign=\"left\">SGD(lr=0.01, momentum=0.3)</th>\n",
              "      <th colspan=\"2\" halign=\"left\">SGD(lr=0.01, momentum=0.3, nesterov=True)</th>\n",
              "      <th colspan=\"2\" halign=\"left\">Adam(lr=0.01)</th>\n",
              "      <th colspan=\"2\" halign=\"left\">Adagrad(lr=0.01)</th>\n",
              "      <th colspan=\"2\" halign=\"left\">RMSprop(lr=0.01)</th>\n",
              "    </tr>\n",
              "    <tr>\n",
              "      <th>metric</th>\n",
              "      <th>acc</th>\n",
              "      <th>loss</th>\n",
              "      <th>acc</th>\n",
              "      <th>loss</th>\n",
              "      <th>acc</th>\n",
              "      <th>loss</th>\n",
              "      <th>acc</th>\n",
              "      <th>loss</th>\n",
              "      <th>acc</th>\n",
              "      <th>loss</th>\n",
              "      <th>acc</th>\n",
              "      <th>loss</th>\n",
              "    </tr>\n",
              "  </thead>\n",
              "  <tbody>\n",
              "    <tr>\n",
              "      <th>0</th>\n",
              "      <td>0.812417</td>\n",
              "      <td>0.730681</td>\n",
              "      <td>0.835600</td>\n",
              "      <td>0.619871</td>\n",
              "      <td>0.838667</td>\n",
              "      <td>0.621695</td>\n",
              "      <td>0.916850</td>\n",
              "      <td>0.287836</td>\n",
              "      <td>0.930200</td>\n",
              "      <td>0.233111</td>\n",
              "      <td>0.913533</td>\n",
              "      <td>0.415057</td>\n",
              "    </tr>\n",
              "    <tr>\n",
              "      <th>1</th>\n",
              "      <td>0.912450</td>\n",
              "      <td>0.303032</td>\n",
              "      <td>0.919683</td>\n",
              "      <td>0.275779</td>\n",
              "      <td>0.920750</td>\n",
              "      <td>0.270163</td>\n",
              "      <td>0.947767</td>\n",
              "      <td>0.196682</td>\n",
              "      <td>0.960717</td>\n",
              "      <td>0.131701</td>\n",
              "      <td>0.933817</td>\n",
              "      <td>0.465689</td>\n",
              "    </tr>\n",
              "    <tr>\n",
              "      <th>2</th>\n",
              "      <td>0.928017</td>\n",
              "      <td>0.248809</td>\n",
              "      <td>0.935567</td>\n",
              "      <td>0.219742</td>\n",
              "      <td>0.936683</td>\n",
              "      <td>0.215275</td>\n",
              "      <td>0.955900</td>\n",
              "      <td>0.172627</td>\n",
              "      <td>0.969250</td>\n",
              "      <td>0.105042</td>\n",
              "      <td>0.940650</td>\n",
              "      <td>0.526929</td>\n",
              "    </tr>\n",
              "    <tr>\n",
              "      <th>3</th>\n",
              "      <td>0.938883</td>\n",
              "      <td>0.212607</td>\n",
              "      <td>0.946150</td>\n",
              "      <td>0.183709</td>\n",
              "      <td>0.947283</td>\n",
              "      <td>0.180083</td>\n",
              "      <td>0.959550</td>\n",
              "      <td>0.161543</td>\n",
              "      <td>0.973900</td>\n",
              "      <td>0.089392</td>\n",
              "      <td>0.944217</td>\n",
              "      <td>0.521332</td>\n",
              "    </tr>\n",
              "    <tr>\n",
              "      <th>4</th>\n",
              "      <td>0.946283</td>\n",
              "      <td>0.185853</td>\n",
              "      <td>0.954417</td>\n",
              "      <td>0.156224</td>\n",
              "      <td>0.954683</td>\n",
              "      <td>0.154643</td>\n",
              "      <td>0.962817</td>\n",
              "      <td>0.150057</td>\n",
              "      <td>0.977200</td>\n",
              "      <td>0.078644</td>\n",
              "      <td>0.946467</td>\n",
              "      <td>0.626774</td>\n",
              "    </tr>\n",
              "  </tbody>\n",
              "</table>\n",
              "</div>"
            ],
            "text/plain": [
              "optimizers SGD(lr=0.01)           SGD(lr=0.01, momentum=0.3)            \\\n",
              "metric              acc      loss                        acc      loss   \n",
              "0              0.812417  0.730681                   0.835600  0.619871   \n",
              "1              0.912450  0.303032                   0.919683  0.275779   \n",
              "2              0.928017  0.248809                   0.935567  0.219742   \n",
              "3              0.938883  0.212607                   0.946150  0.183709   \n",
              "4              0.946283  0.185853                   0.954417  0.156224   \n",
              "\n",
              "optimizers SGD(lr=0.01, momentum=0.3, nesterov=True)           Adam(lr=0.01)  \\\n",
              "metric                                           acc      loss           acc   \n",
              "0                                           0.838667  0.621695      0.916850   \n",
              "1                                           0.920750  0.270163      0.947767   \n",
              "2                                           0.936683  0.215275      0.955900   \n",
              "3                                           0.947283  0.180083      0.959550   \n",
              "4                                           0.954683  0.154643      0.962817   \n",
              "\n",
              "optimizers           Adagrad(lr=0.01)           RMSprop(lr=0.01)            \n",
              "metric          loss              acc      loss              acc      loss  \n",
              "0           0.287836         0.930200  0.233111         0.913533  0.415057  \n",
              "1           0.196682         0.960717  0.131701         0.933817  0.465689  \n",
              "2           0.172627         0.969250  0.105042         0.940650  0.526929  \n",
              "3           0.161543         0.973900  0.089392         0.944217  0.521332  \n",
              "4           0.150057         0.977200  0.078644         0.946467  0.626774  "
            ]
          },
          "metadata": {
            "tags": []
          },
          "execution_count": 18
        }
      ]
    },
    {
      "metadata": {
        "id": "dD_mMo769r1D",
        "colab_type": "text"
      },
      "cell_type": "markdown",
      "source": [
        "## Initialization"
      ]
    },
    {
      "metadata": {
        "id": "SNSzjk-59wXc",
        "colab_type": "code",
        "colab": {}
      },
      "cell_type": "code",
      "source": [
        "dflist = []\n",
        "\n",
        "initializers = ['zeros', 'uniform', 'normal',\n",
        "                'he_normal', 'lecun_uniform']\n",
        "\n",
        "for init in initializers:\n",
        "\n",
        "  K.clear_session()\n",
        "\n",
        "  model = tf.keras.models.Sequential()\n",
        "  model.add(tf.keras.layers.Flatten())  # takes our 28x28 and makes it 1x784\n",
        "  model.add(tf.keras.layers.Dense(128, kernel_initializer=init, activation=tf.nn.relu))  # a simple fully-connected layer, 128 units, relu activation\n",
        "  model.add(tf.keras.layers.Dense(128, kernel_initializer=init, activation=tf.nn.relu))  # a simple fully-connected layer, 128 units, relu activation\n",
        "  model.add(tf.keras.layers.Dense(10, kernel_initializer=init, activation=tf.nn.softmax))  # our output layer. 10 units for 10 classes. Softmax for probability distribution\n",
        "\n",
        "  model.compile(optimizer='rmsprop',  # Good default optimizer to start with\n",
        "                loss='sparse_categorical_crossentropy',  # how will we calculate our \"error.\" Neural network aims to minimize loss.\n",
        "                metrics=['accuracy'])  # what to track\n",
        "\n",
        "  h =  model.fit(x_train, y_train, batch_size=16, verbose=0, epochs=5)  \n",
        "\n",
        "  \n",
        "  dflist.append(pd.DataFrame(h.history, index=h.epoch))"
      ],
      "execution_count": 0,
      "outputs": []
    },
    {
      "metadata": {
        "id": "DzTZ-geS-BBR",
        "colab_type": "code",
        "colab": {}
      },
      "cell_type": "code",
      "source": [
        "historydf = pd.concat(dflist, axis=1)\n",
        "metrics_reported = dflist[0].columns\n",
        "idx = pd.MultiIndex.from_product([initializers, metrics_reported],\n",
        "                                 names=['initializers', 'metric'])\n",
        "\n",
        "historydf.columns = idx"
      ],
      "execution_count": 0,
      "outputs": []
    },
    {
      "metadata": {
        "id": "404iTWdW-B55",
        "colab_type": "code",
        "outputId": "5471b38f-43e8-4c7d-cb82-32540cfc679d",
        "colab": {
          "base_uri": "https://localhost:8080/",
          "height": 235
        }
      },
      "cell_type": "code",
      "source": [
        "historydf"
      ],
      "execution_count": 21,
      "outputs": [
        {
          "output_type": "execute_result",
          "data": {
            "text/html": [
              "<div>\n",
              "<style scoped>\n",
              "    .dataframe tbody tr th:only-of-type {\n",
              "        vertical-align: middle;\n",
              "    }\n",
              "\n",
              "    .dataframe tbody tr th {\n",
              "        vertical-align: top;\n",
              "    }\n",
              "\n",
              "    .dataframe thead tr th {\n",
              "        text-align: left;\n",
              "    }\n",
              "</style>\n",
              "<table border=\"1\" class=\"dataframe\">\n",
              "  <thead>\n",
              "    <tr>\n",
              "      <th>initializers</th>\n",
              "      <th colspan=\"2\" halign=\"left\">zeros</th>\n",
              "      <th colspan=\"2\" halign=\"left\">uniform</th>\n",
              "      <th colspan=\"2\" halign=\"left\">normal</th>\n",
              "      <th colspan=\"2\" halign=\"left\">he_normal</th>\n",
              "      <th colspan=\"2\" halign=\"left\">lecun_uniform</th>\n",
              "    </tr>\n",
              "    <tr>\n",
              "      <th>metric</th>\n",
              "      <th>acc</th>\n",
              "      <th>loss</th>\n",
              "      <th>acc</th>\n",
              "      <th>loss</th>\n",
              "      <th>acc</th>\n",
              "      <th>loss</th>\n",
              "      <th>acc</th>\n",
              "      <th>loss</th>\n",
              "      <th>acc</th>\n",
              "      <th>loss</th>\n",
              "    </tr>\n",
              "  </thead>\n",
              "  <tbody>\n",
              "    <tr>\n",
              "      <th>0</th>\n",
              "      <td>0.111600</td>\n",
              "      <td>2.301552</td>\n",
              "      <td>0.909317</td>\n",
              "      <td>0.309963</td>\n",
              "      <td>0.921500</td>\n",
              "      <td>0.270653</td>\n",
              "      <td>0.929150</td>\n",
              "      <td>0.239008</td>\n",
              "      <td>0.925950</td>\n",
              "      <td>0.250398</td>\n",
              "    </tr>\n",
              "    <tr>\n",
              "      <th>1</th>\n",
              "      <td>0.112367</td>\n",
              "      <td>2.301393</td>\n",
              "      <td>0.960917</td>\n",
              "      <td>0.141016</td>\n",
              "      <td>0.963900</td>\n",
              "      <td>0.130431</td>\n",
              "      <td>0.966350</td>\n",
              "      <td>0.120205</td>\n",
              "      <td>0.965483</td>\n",
              "      <td>0.124689</td>\n",
              "    </tr>\n",
              "    <tr>\n",
              "      <th>2</th>\n",
              "      <td>0.112367</td>\n",
              "      <td>2.301399</td>\n",
              "      <td>0.970400</td>\n",
              "      <td>0.111161</td>\n",
              "      <td>0.972133</td>\n",
              "      <td>0.103420</td>\n",
              "      <td>0.974600</td>\n",
              "      <td>0.095839</td>\n",
              "      <td>0.973833</td>\n",
              "      <td>0.100596</td>\n",
              "    </tr>\n",
              "    <tr>\n",
              "      <th>3</th>\n",
              "      <td>0.112367</td>\n",
              "      <td>2.301398</td>\n",
              "      <td>0.975217</td>\n",
              "      <td>0.095215</td>\n",
              "      <td>0.977417</td>\n",
              "      <td>0.090106</td>\n",
              "      <td>0.979183</td>\n",
              "      <td>0.081105</td>\n",
              "      <td>0.978400</td>\n",
              "      <td>0.087403</td>\n",
              "    </tr>\n",
              "    <tr>\n",
              "      <th>4</th>\n",
              "      <td>0.112367</td>\n",
              "      <td>2.301411</td>\n",
              "      <td>0.979233</td>\n",
              "      <td>0.084668</td>\n",
              "      <td>0.979533</td>\n",
              "      <td>0.084339</td>\n",
              "      <td>0.982550</td>\n",
              "      <td>0.069928</td>\n",
              "      <td>0.980883</td>\n",
              "      <td>0.077935</td>\n",
              "    </tr>\n",
              "  </tbody>\n",
              "</table>\n",
              "</div>"
            ],
            "text/plain": [
              "initializers     zeros             uniform              normal            \\\n",
              "metric             acc      loss       acc      loss       acc      loss   \n",
              "0             0.111600  2.301552  0.909317  0.309963  0.921500  0.270653   \n",
              "1             0.112367  2.301393  0.960917  0.141016  0.963900  0.130431   \n",
              "2             0.112367  2.301399  0.970400  0.111161  0.972133  0.103420   \n",
              "3             0.112367  2.301398  0.975217  0.095215  0.977417  0.090106   \n",
              "4             0.112367  2.301411  0.979233  0.084668  0.979533  0.084339   \n",
              "\n",
              "initializers he_normal           lecun_uniform            \n",
              "metric             acc      loss           acc      loss  \n",
              "0             0.929150  0.239008      0.925950  0.250398  \n",
              "1             0.966350  0.120205      0.965483  0.124689  \n",
              "2             0.974600  0.095839      0.973833  0.100596  \n",
              "3             0.979183  0.081105      0.978400  0.087403  \n",
              "4             0.982550  0.069928      0.980883  0.077935  "
            ]
          },
          "metadata": {
            "tags": []
          },
          "execution_count": 21
        }
      ]
    },
    {
      "metadata": {
        "id": "ZmlNK_-k-g1H",
        "colab_type": "text"
      },
      "cell_type": "markdown",
      "source": [
        "## Batch Normalization"
      ]
    },
    {
      "metadata": {
        "id": "r-YEkXkT-idc",
        "colab_type": "code",
        "colab": {}
      },
      "cell_type": "code",
      "source": [
        "from tensorflow.keras.layers import BatchNormalization\n",
        "import numpy as np"
      ],
      "execution_count": 0,
      "outputs": []
    },
    {
      "metadata": {
        "id": "cubZ0rQe-mBt",
        "colab_type": "code",
        "colab": {}
      },
      "cell_type": "code",
      "source": [
        "def repeated_training(x_train,\n",
        "                      y_train,\n",
        "                      x_test,\n",
        "                      y_test,\n",
        "                      do_bn=False,\n",
        "                      epochs=5,\n",
        "                      repeats=3):\n",
        "  histories = []\n",
        "\n",
        "  for repeat in range(repeats):\n",
        "    K.clear_session()\n",
        "\n",
        "    model = tf.keras.models.Sequential()\n",
        "    model.add(tf.keras.layers.Flatten())\n",
        "    model.add(tf.keras.layers.Dense(128, kernel_initializer='normal', activation=tf.nn.relu))\n",
        "\n",
        "    if do_bn:\n",
        "        model.add(BatchNormalization())\n",
        "        \n",
        "    model.add(tf.keras.layers.Dense(128, kernel_initializer='normal', activation=tf.nn.relu))\n",
        "      \n",
        "    if do_bn:\n",
        "        model.add(BatchNormalization())\n",
        "\n",
        "    model.add(tf.keras.layers.Dense(10, kernel_initializer=init, activation=tf.nn.softmax))  # our output layer. 10 units for 10 classes. Softmax for probability distribution\n",
        "    \n",
        "    model.compile(optimizer='rmsprop',  # Good default optimizer to start with\n",
        "                  loss='sparse_categorical_crossentropy',  # how will we calculate our \"error.\" Neural network aims to minimize loss.\n",
        "                  metrics=['accuracy'])  # what to track\n",
        "\n",
        "    h = model.fit(x_train, y_train,\n",
        "                  validation_data=(x_test, y_test),\n",
        "                  epochs=epochs,\n",
        "                  verbose=0)\n",
        "    \n",
        "    histories.append([h.history['acc'], h.history['val_acc']])\n",
        "    print(repeat, end=' ')\n",
        "\n",
        "  histories = np.array(histories)\n",
        "\n",
        "  # calculate mean and standard deviation across repeats:\n",
        "  mean_acc = histories.mean(axis=0)\n",
        "  std_acc = histories.std(axis=0)\n",
        "  print()\n",
        "\n",
        "  return mean_acc[0], std_acc[0], mean_acc[1], std_acc[1]"
      ],
      "execution_count": 0,
      "outputs": []
    },
    {
      "metadata": {
        "id": "MoxsGh8AAD02",
        "colab_type": "code",
        "outputId": "4b543255-cf0d-4c59-d88f-835a34477fb4",
        "colab": {
          "base_uri": "https://localhost:8080/",
          "height": 34
        }
      },
      "cell_type": "code",
      "source": [
        "mean_acc, std_acc, mean_acc_val, std_acc_val = \\\n",
        "    repeated_training(x_train, y_train, x_test, y_test, do_bn=False)"
      ],
      "execution_count": 28,
      "outputs": [
        {
          "output_type": "stream",
          "text": [
            "0 1 2 \n"
          ],
          "name": "stdout"
        }
      ]
    },
    {
      "metadata": {
        "id": "-3mNieHxAHE-",
        "colab_type": "code",
        "outputId": "58c693de-4e06-4faa-cc46-4dc199b70713",
        "colab": {
          "base_uri": "https://localhost:8080/",
          "height": 34
        }
      },
      "cell_type": "code",
      "source": [
        "mean_acc_bn, std_acc_bn, mean_acc_val_bn, std_acc_val_bn = \\\n",
        "    repeated_training(x_train, y_train, x_test, y_test, do_bn=True)"
      ],
      "execution_count": 29,
      "outputs": [
        {
          "output_type": "stream",
          "text": [
            "0 1 2 \n"
          ],
          "name": "stdout"
        }
      ]
    },
    {
      "metadata": {
        "id": "rWLQyScgAJWl",
        "colab_type": "code",
        "colab": {}
      },
      "cell_type": "code",
      "source": [
        "def plot_mean_std(m, s):\n",
        "    plt.plot(m)\n",
        "    plt.fill_between(range(len(m)), m-s, m+s, alpha=0.1)"
      ],
      "execution_count": 0,
      "outputs": []
    },
    {
      "metadata": {
        "id": "HQasvnd1AKld",
        "colab_type": "code",
        "outputId": "3b59ec02-c1f0-41dc-b440-221da6e8e0a0",
        "colab": {
          "base_uri": "https://localhost:8080/",
          "height": 311
        }
      },
      "cell_type": "code",
      "source": [
        "plot_mean_std(mean_acc, std_acc)\n",
        "plot_mean_std(mean_acc_val, std_acc_val)\n",
        "plot_mean_std(mean_acc_bn, std_acc_bn)\n",
        "plot_mean_std(mean_acc_val_bn, std_acc_val_bn)\n",
        "plt.ylim(0, 1.01)\n",
        "plt.title(\"Batch Normalization Accuracy\")\n",
        "plt.xlabel('Epochs')\n",
        "plt.ylabel('Accuracy')\n",
        "plt.legend(['Train', 'Test', 'Train with Batch Normalization', 'Test with Batch Normalization'], loc='best')\n"
      ],
      "execution_count": 31,
      "outputs": [
        {
          "output_type": "execute_result",
          "data": {
            "text/plain": [
              "<matplotlib.legend.Legend at 0x7fe566ae23c8>"
            ]
          },
          "metadata": {
            "tags": []
          },
          "execution_count": 31
        },
        {
          "output_type": "display_data",
          "data": {
            "image/png": "[encoded data removed]",
            "text/plain": [
              "<matplotlib.figure.Figure at 0x7fe5632e8588>"
            ]
          },
          "metadata": {
            "tags": []
          }
        }
      ]
    },
    {
      "metadata": {
        "id": "I_ZEbLqFAL8U",
        "colab_type": "text"
      },
      "cell_type": "markdown",
      "source": [
        "## Weight Regularization & Dropout"
      ]
    },
    {
      "metadata": {
        "id": "uqpguOtXAU8s",
        "colab_type": "code",
        "colab": {}
      },
      "cell_type": "code",
      "source": [
        "from tensorflow.keras.layers import Dropout\n",
        "\n",
        "model = tf.keras.models.Sequential()\n",
        "model.add(tf.keras.layers.Flatten())  # takes our 28x28 and makes it 1x784\n",
        "model.add(Dropout(0.2))\n",
        "model.add(tf.keras.layers.Dense(128, activation=tf.nn.relu))  # a simple fully-connected layer, 128 units, relu activation\n",
        "model.add(Dropout(0.2))\n",
        "model.add(tf.keras.layers.Dense(128, activation=tf.nn.relu))  # a simple fully-connected layer, 128 units, relu activation\n",
        "model.add(Dropout(0.2))\n",
        "\n",
        "model.add(tf.keras.layers.Dense(10, activation=tf.nn.softmax))  # our output layer. 10 units for 10 classes. Softmax for probability distribution\n",
        "\n",
        "model.compile(optimizer='rmsprop',  # Good default optimizer to start with\n",
        "              loss='sparse_categorical_crossentropy',  # how will we calculate our \"error.\" Neural network aims to minimize loss.\n",
        "              metrics=['accuracy'])  # what to track"
      ],
      "execution_count": 0,
      "outputs": []
    },
    {
      "metadata": {
        "id": "IcMLs7J7BIzu",
        "colab_type": "code",
        "colab": {}
      },
      "cell_type": "code",
      "source": [
        ""
      ],
      "execution_count": 0,
      "outputs": []
    }
  ]
}
