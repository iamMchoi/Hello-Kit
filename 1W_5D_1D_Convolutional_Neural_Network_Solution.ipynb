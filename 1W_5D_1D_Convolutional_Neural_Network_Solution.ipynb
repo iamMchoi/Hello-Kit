{
  "nbformat": 4,
  "nbformat_minor": 0,
  "metadata": {
    "colab": {
      "name": "Assignment_1D_Convolutional_Neural_Network_Solution.ipynb",
      "version": "0.3.2",
      "provenance": [],
      "collapsed_sections": [],
      "include_colab_link": true
    },
    "kernelspec": {
      "name": "python3",
      "display_name": "Python 3"
    },
    "accelerator": "GPU"
  },
  "cells": [
    {
      "cell_type": "markdown",
      "metadata": {
        "id": "view-in-github",
        "colab_type": "text"
      },
      "source": [
        "<a href=\"https://colab.research.google.com/github/iamMchoi/Hello-Kit/blob/master/1W_5D_1D_Convolutional_Neural_Network_Solution.ipynb\" target=\"_parent\"><img src=\"https://colab.research.google.com/assets/colab-badge.svg\" alt=\"Open In Colab\"/></a>"
      ]
    },
    {
      "metadata": {
        "id": "AOpOMqkpBG2q",
        "colab_type": "text"
      },
      "cell_type": "markdown",
      "source": [
        "# M2.1 1D Convolutional Neural Networks\n",
        "# Exercise1 The Simplest CNN Model\n",
        "\n",
        "In this exercise we will apply 1D convolution on the simple time series array\n",
        "\n",
        "- Requirements\n",
        "1. Define Model\n",
        "2. Train Model\n",
        "2. Predict x_input Based on the Trained Model\n",
        "\n",
        "- Hint: How will first layer look like?\n",
        "  - First Conv1D requires below parameters\n",
        "  - filters =?  \n",
        "  - kernel_size =?    \n",
        "  - activation = ? \n",
        "  - input_shape = ?"
      ]
    },
    {
      "metadata": {
        "id": "TZ7eLCgFEuz2",
        "colab_type": "text"
      },
      "cell_type": "markdown",
      "source": [
        "## Simple 1D Time Series Data"
      ]
    },
    {
      "metadata": {
        "id": "RoWnIYkfEMQJ",
        "colab_type": "code",
        "colab": {}
      },
      "cell_type": "code",
      "source": [
        "# univariate cnn example\n",
        "from numpy import array\n",
        "from tensorflow.keras.models import Sequential\n",
        "from tensorflow.keras.layers import Dense\n",
        "from tensorflow.keras.layers import Flatten\n",
        "from tensorflow.keras.layers import Conv1D\n",
        "from tensorflow.keras.layers import MaxPooling1D\n",
        "# define dataset\n",
        "X = array([[10, 20, 30], [20, 30, 40], [30, 40, 50], [40, 50, 60]])\n",
        "y = array([40, 50, 60, 70])\n",
        "\n",
        "# reshape from [samples, timesteps] into [samples, timesteps, features]\n",
        "X = X.reshape((X.shape[0], X.shape[1], 1))"
      ],
      "execution_count": 0,
      "outputs": []
    },
    {
      "metadata": {
        "id": "gabXQ3OJEs_-",
        "colab_type": "text"
      },
      "cell_type": "markdown",
      "source": [
        "## Define Model\n"
      ]
    },
    {
      "metadata": {
        "id": "s4lUMVrlD4ZS",
        "colab_type": "code",
        "colab": {}
      },
      "cell_type": "code",
      "source": [
        "# define model\n",
        "model = Sequential()\n",
        "model.add(Conv1D(filters=64, kernel_size=2, activation='relu', input_shape=(3, 1)))\n",
        "model.add(MaxPooling1D(pool_size=2))\n",
        "model.add(Flatten())\n",
        "model.add(Dense(50, activation='relu'))\n",
        "model.add(Dense(1))\n",
        "model.compile(optimizer='adam', loss='mse')"
      ],
      "execution_count": 0,
      "outputs": []
    },
    {
      "metadata": {
        "id": "ClDfgW1QE1oh",
        "colab_type": "text"
      },
      "cell_type": "markdown",
      "source": [
        "## Fit Model"
      ]
    },
    {
      "metadata": {
        "id": "Fbxgr8_6D6Nq",
        "colab_type": "code",
        "colab": {}
      },
      "cell_type": "code",
      "source": [
        "# fit model\n",
        "model.fit(X, y, epochs=1000, verbose=0)"
      ],
      "execution_count": 0,
      "outputs": []
    },
    {
      "metadata": {
        "id": "ZLawySDAE3f_",
        "colab_type": "text"
      },
      "cell_type": "markdown",
      "source": [
        "## Predict x_input"
      ]
    },
    {
      "metadata": {
        "id": "9dooXelDD7S4",
        "colab_type": "code",
        "colab": {}
      },
      "cell_type": "code",
      "source": [
        "# demonstrate prediction\n",
        "x_input = array([50, 60, 70])\n",
        "x_input = x_input.reshape((1, 3, 1))"
      ],
      "execution_count": 0,
      "outputs": []
    },
    {
      "metadata": {
        "id": "TVepkc7sFG-E",
        "colab_type": "code",
        "colab": {}
      },
      "cell_type": "code",
      "source": [
        "# Prediction Model\n",
        "yhat = model.predict(x_input, verbose=0)\n",
        "print(yhat)"
      ],
      "execution_count": 0,
      "outputs": []
    },
    {
      "metadata": {
        "id": "LSPnIO4-NOCG",
        "colab_type": "text"
      },
      "cell_type": "markdown",
      "source": [
        "# Exercise2 The Simplest CNN Model + Sin Function\n",
        "\n",
        "In this exercise we will apply 1D convolution on the sinusoidal time series\n",
        "\n",
        "Requirements\n",
        "- Define Model\n",
        "- Train Model\n",
        "- Predict x_input Based on the Trained Model\n",
        "\n",
        "Hint\n",
        "- length_of_sequences = 10\n",
        "- then how will input_shape looks like?"
      ]
    },
    {
      "metadata": {
        "id": "2sf2FyckNXlJ",
        "colab_type": "code",
        "colab": {}
      },
      "cell_type": "code",
      "source": [
        "%matplotlib inline\n",
        "\n",
        "import pandas as pd\n",
        "import numpy as np\n",
        "import math\n",
        "\n",
        "import random\n",
        "import matplotlib.pyplot as plt"
      ],
      "execution_count": 0,
      "outputs": []
    },
    {
      "metadata": {
        "id": "tomLZ27wN2_j",
        "colab_type": "text"
      },
      "cell_type": "markdown",
      "source": [
        "### Generate Noisy Sin Values\n"
      ]
    },
    {
      "metadata": {
        "id": "hMqzV0HyNcBq",
        "colab_type": "code",
        "colab": {}
      },
      "cell_type": "code",
      "source": [
        "def noisy_sin(steps_per_cycle = 50,\n",
        "              number_of_cycles = 500,\n",
        "              random_factor = 0.4):\n",
        "  '''\n",
        "  random_factor    : amont of noise in sign wave. 0 = no noise\n",
        "  number_of_cycles : The number of steps required for one cycle\n",
        "\n",
        "  Return : \n",
        "  pd.DataFrame() with column sin_t containing the generated sin wave \n",
        "  '''\n",
        "  random.seed(0)\n",
        "  df = pd.DataFrame(np.arange(steps_per_cycle * number_of_cycles + 1), columns=[\"t\"])\n",
        "  df[\"sin_t\"] = df.t.apply(lambda x: math.sin(x * (2 * math.pi / steps_per_cycle)+ random.uniform(-1.0, +1.0) * random_factor))\n",
        "  df[\"sin_t_clean\"] = df.t.apply(lambda x: math.sin(x * (2 * math.pi / steps_per_cycle)))\n",
        "  print(\"create period-{} sin wave with {} cycles\".format(steps_per_cycle,number_of_cycles))\n",
        "  print(\"In total, the sin wave time series length is {}\".format(steps_per_cycle*number_of_cycles+1))\n",
        "  return(df)"
      ],
      "execution_count": 0,
      "outputs": []
    },
    {
      "metadata": {
        "id": "Wbvmi5inN1u8",
        "colab_type": "code",
        "colab": {}
      },
      "cell_type": "code",
      "source": [
        "steps_per_cycle = 10\n",
        "\n",
        "df = noisy_sin(steps_per_cycle=steps_per_cycle,\n",
        "              random_factor = 0.2)\n",
        "\n",
        "n_plot = 8\n",
        "df[[\"sin_t\"]].head(steps_per_cycle * n_plot).plot(\n",
        "      title=\"Generated first {} cycles\".format(n_plot),\n",
        "      figsize=(15,3))"
      ],
      "execution_count": 0,
      "outputs": []
    },
    {
      "metadata": {
        "id": "diFdv3heN-Z7",
        "colab_type": "text"
      },
      "cell_type": "markdown",
      "source": [
        "### Split Train / Test Data"
      ]
    },
    {
      "metadata": {
        "id": "qVXt3cPONdI6",
        "colab_type": "code",
        "colab": {}
      },
      "cell_type": "code",
      "source": [
        "def _load_data(data, n_prev = 100):  \n",
        "  \"\"\"\n",
        "  data should be pd.DataFrame()\n",
        "  \"\"\"\n",
        "\n",
        "  docX, docY = [], []\n",
        "  for i in range(len(data)-n_prev):\n",
        "      docX.append(data.iloc[i:i+n_prev].as_matrix())\n",
        "      docY.append(data.iloc[i+n_prev].as_matrix())\n",
        "  alsX = np.array(docX)\n",
        "  alsY = np.array(docY)\n",
        "\n",
        "  return alsX, alsY\n",
        "\n",
        "length_of_sequences = 10\n",
        "test_size = 0.25\n",
        "\n",
        "ntr = int(len(df) * (1 - test_size))\n",
        "\n",
        "df_train = df[[\"sin_t\"]].iloc[:ntr]\n",
        "df_test  = df[[\"sin_t\"]].iloc[ntr:]\n",
        "(X_train, y_train) = _load_data(df_train, n_prev = length_of_sequences)\n",
        "(X_test, y_test)   = _load_data(df_test, n_prev = length_of_sequences)  \n",
        "\n",
        "print(X_train.shape, y_train.shape, X_test.shape, y_test.shape)"
      ],
      "execution_count": 0,
      "outputs": []
    },
    {
      "metadata": {
        "id": "SdJoV0-gOIFb",
        "colab_type": "text"
      },
      "cell_type": "markdown",
      "source": [
        "### Build Model"
      ]
    },
    {
      "metadata": {
        "id": "acCq-nTpNhWi",
        "colab_type": "code",
        "colab": {}
      },
      "cell_type": "code",
      "source": [
        "from tensorflow.keras.models import Sequential\n",
        "from tensorflow.keras.layers import Dense\n",
        "from tensorflow.keras.layers import Flatten\n",
        "from tensorflow.keras.layers import Conv1D\n",
        "from tensorflow.keras.layers import MaxPooling1D\n",
        "\n",
        "model = Sequential()\n",
        "model.add(Conv1D(filters=64, kernel_size=2, activation='relu', input_shape=(10, 1)))\n",
        "model.add(MaxPooling1D(pool_size=2))\n",
        "model.add(Flatten())\n",
        "model.add(Dense(50, activation='relu'))\n",
        "model.add(Dense(1))\n",
        "    \n",
        "model.compile(loss=\"mean_squared_error\", optimizer=\"rmsprop\")\n",
        "  \n",
        "## use the default values for batch_size, stateful\n",
        "model.summary()"
      ],
      "execution_count": 0,
      "outputs": []
    },
    {
      "metadata": {
        "id": "OCOB9YL3OLAE",
        "colab_type": "text"
      },
      "cell_type": "markdown",
      "source": [
        "### Train Model"
      ]
    },
    {
      "metadata": {
        "id": "_Qpw13WWNlgS",
        "colab_type": "code",
        "colab": {}
      },
      "cell_type": "code",
      "source": [
        "hist = model.fit(X_train, y_train, batch_size=600, epochs=100, \n",
        "                 verbose=False,validation_split=0.05)"
      ],
      "execution_count": 0,
      "outputs": []
    },
    {
      "metadata": {
        "id": "NK5CgrTENo8K",
        "colab_type": "code",
        "colab": {}
      },
      "cell_type": "code",
      "source": [
        "for label in [\"loss\",\"val_loss\"]:\n",
        "    plt.plot(hist.history[label],label=label)\n",
        "\n",
        "plt.ylabel(\"loss\")\n",
        "plt.xlabel(\"epoch\")\n",
        "plt.title(\"The final validation loss: {}\".format(hist.history[\"val_loss\"][-1]))\n",
        "plt.legend()\n",
        "plt.show()"
      ],
      "execution_count": 0,
      "outputs": []
    },
    {
      "metadata": {
        "id": "g7CE-6SoONWs",
        "colab_type": "text"
      },
      "cell_type": "markdown",
      "source": [
        "### Predict Model"
      ]
    },
    {
      "metadata": {
        "id": "WPk8ZIjANqCx",
        "colab_type": "code",
        "colab": {}
      },
      "cell_type": "code",
      "source": [
        "y_pred = model.predict(X_test)\n",
        "plt.figure(figsize=(19,3))\n",
        "\n",
        "plt.plot(y_test[:100],label=\"true\")\n",
        "plt.plot(y_pred[:100],label=\"predicted\")\n",
        "plt.legend()\n",
        "plt.show()"
      ],
      "execution_count": 0,
      "outputs": []
    }
  ]
}