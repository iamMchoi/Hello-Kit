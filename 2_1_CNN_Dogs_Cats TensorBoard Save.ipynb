{
  "nbformat": 4,
  "nbformat_minor": 0,
  "metadata": {
    "colab": {
      "name": "2_1_CNN Dogs_Cats.ipynb",
      "version": "0.3.2",
      "provenance": [],
      "collapsed_sections": [],
      "include_colab_link": true
    },
    "kernelspec": {
      "name": "python3",
      "display_name": "Python 3"
    },
    "accelerator": "GPU"
  },
  "cells": [
    {
      "cell_type": "markdown",
      "metadata": {
        "id": "view-in-github",
        "colab_type": "text"
      },
      "source": [
        "<a href=\"https://colab.research.google.com/github/iamMchoi/Hello-Kit/blob/master/2_1_CNN_Dogs_Cats%20TensorBoard%20Save.ipynb\" target=\"_parent\"><img src=\"https://colab.research.google.com/assets/colab-badge.svg\" alt=\"Open In Colab\"/></a>"
      ]
    },
    {
      "metadata": {
        "id": "w0-mtRjisFP9",
        "colab_type": "text"
      },
      "cell_type": "markdown",
      "source": [
        "##TensorBoard, Mounting Google Drive, Save/Load Data & Modle as file, 2D CNN"
      ]
    },
    {
      "metadata": {
        "id": "ze4MHNzUxnKK",
        "colab_type": "code",
        "colab": {}
      },
      "cell_type": "code",
      "source": [
        "%matplotlib inline"
      ],
      "execution_count": 0,
      "outputs": []
    },
    {
      "metadata": {
        "id": "lbyaynITkXC3",
        "colab_type": "text"
      },
      "cell_type": "markdown",
      "source": [
        ""
      ]
    },
    {
      "metadata": {
        "id": "B7oNasfsF3T_",
        "colab_type": "text"
      },
      "cell_type": "markdown",
      "source": [
        "##TensorBoard on Google Colab\n",
        "Install Ngrok\n",
        "\n"
      ]
    },
    {
      "metadata": {
        "id": "XhOQyPbyF8UZ",
        "colab_type": "code",
        "colab": {
          "base_uri": "https://localhost:8080/",
          "height": 238
        },
        "outputId": "ad175670-b8e0-45a0-9291-9fe81daa05e2"
      },
      "cell_type": "code",
      "source": [
        "!wget https://bin.equinox.io/c/4VmDzA7iaHb/ngrok-stable-linux-amd64.zip\n",
        "!unzip ngrok-stable-linux-amd64.zip"
      ],
      "execution_count": 1,
      "outputs": [
        {
          "output_type": "stream",
          "text": [
            "--2018-11-02 18:11:31--  https://bin.equinox.io/c/4VmDzA7iaHb/ngrok-stable-linux-amd64.zip\n",
            "Resolving bin.equinox.io (bin.equinox.io)... 52.22.34.127, 52.4.95.48, 52.22.213.157, ...\n",
            "Connecting to bin.equinox.io (bin.equinox.io)|52.22.34.127|:443... connected.\n",
            "HTTP request sent, awaiting response... 200 OK\n",
            "Length: 5363700 (5.1M) [application/octet-stream]\n",
            "Saving to: ‘ngrok-stable-linux-amd64.zip’\n",
            "\n",
            "ngrok-stable-linux- 100%[===================>]   5.11M  7.86MB/s    in 0.7s    \n",
            "\n",
            "2018-11-02 18:11:32 (7.86 MB/s) - ‘ngrok-stable-linux-amd64.zip’ saved [5363700/5363700]\n",
            "\n",
            "Archive:  ngrok-stable-linux-amd64.zip\n",
            "  inflating: ngrok                   \n"
          ],
          "name": "stdout"
        }
      ]
    },
    {
      "metadata": {
        "id": "3_iiFSuE2LwI",
        "colab_type": "text"
      },
      "cell_type": "markdown",
      "source": [
        "##Mounting Google Drive"
      ]
    },
    {
      "metadata": {
        "id": "OWnCM9gTwP_f",
        "colab_type": "code",
        "colab": {
          "base_uri": "https://localhost:8080/",
          "height": 122
        },
        "outputId": "89b6778a-5791-47c8-8cb8-1f0d0a69b8aa"
      },
      "cell_type": "code",
      "source": [
        "from google.colab import drive\n",
        "drive.mount('/content/drive/')"
      ],
      "execution_count": 2,
      "outputs": [
        {
          "output_type": "stream",
          "text": [
            "Go to this URL in a browser: https://accounts.google.com/o/oauth2/auth?client_id=947318989803-6bn6qk8qdgf4n4g3pfee6491hc0brc4i.apps.googleusercontent.com&redirect_uri=urn%3Aietf%3Awg%3Aoauth%3A2.0%3Aoob&scope=email%20https%3A%2F%2Fwww.googleapis.com%2Fauth%2Fdocs.test%20https%3A%2F%2Fwww.googleapis.com%2Fauth%2Fdrive%20https%3A%2F%2Fwww.googleapis.com%2Fauth%2Fdrive.photos.readonly%20https%3A%2F%2Fwww.googleapis.com%2Fauth%2Fpeopleapi.readonly&response_type=code\n",
            "\n",
            "Enter your authorization code:\n",
            "··········\n",
            "Mounted at /content/drive/\n"
          ],
          "name": "stdout"
        }
      ]
    },
    {
      "metadata": {
        "id": "YZRqgUDxwMp0",
        "colab_type": "code",
        "colab": {}
      },
      "cell_type": "code",
      "source": [
        "DATA_PATH = \"/content/drive/My Drive/Colab Notebooks/\""
      ],
      "execution_count": 0,
      "outputs": []
    },
    {
      "metadata": {
        "id": "KchXqt4B40sh",
        "colab_type": "text"
      },
      "cell_type": "markdown",
      "source": [
        "##Unzip data in Google drive\n",
        "It will take more than 5 min"
      ]
    },
    {
      "metadata": {
        "id": "_eRja5NX1UaC",
        "colab_type": "code",
        "colab": {}
      },
      "cell_type": "code",
      "source": [
        "import zipfile\n",
        "import io\n",
        "\n",
        "zf = zipfile.ZipFile(DATA_PATH+\"PetImages.zip\", \"r\")\n",
        "zf.extractall(DATA_PATH)"
      ],
      "execution_count": 0,
      "outputs": []
    },
    {
      "metadata": {
        "id": "at8iOLs92Byk",
        "colab_type": "text"
      },
      "cell_type": "markdown",
      "source": [
        "## Changing Working Directory"
      ]
    },
    {
      "metadata": {
        "id": "zOETb2XUv8NG",
        "colab_type": "code",
        "colab": {
          "base_uri": "https://localhost:8080/",
          "height": 340
        },
        "outputId": "24e5007d-e916-4c91-b5cf-8184ad2d52bf"
      },
      "cell_type": "code",
      "source": [
        "!ls \"/content/drive/My Drive/Colab Notebooks\""
      ],
      "execution_count": 3,
      "outputs": [
        {
          "output_type": "stream",
          "text": [
            "'2_1_CNN Dogs_Cats.ipynb'\n",
            " 2_1Day_1D_Convolutional_Neural_Network.ipynb\n",
            " 2_4Day_Recurrent_Neural_Network.ipynb\n",
            " 2_5_Preprocessing_for_Cryptocurrency_Data.ipynb\n",
            " crypto_data\n",
            " crypto_data.zip\n",
            " GraphicTest.ipynb\n",
            "'Keras MNIST.ipynb'\n",
            " M2_1_X.pickle\n",
            " M2_1_y.pickle\n",
            " __MACOSX\n",
            " MNIST_Javascript.ipynb\n",
            " MNIST_Ten.ipynb\n",
            " PetImages\n",
            " PetImages.zip\n",
            " Tensorboard_on_Google_Colab.ipynb\n",
            " Untitled0.ipynb\n",
            " Untitled1.ipynb\n",
            " Untitled2.ipynb\n"
          ],
          "name": "stdout"
        }
      ]
    },
    {
      "metadata": {
        "id": "OVcKToHo5LM5",
        "colab_type": "text"
      },
      "cell_type": "markdown",
      "source": [
        "##Read Data"
      ]
    },
    {
      "metadata": {
        "id": "94x_XgLq3ciz",
        "colab_type": "code",
        "colab": {
          "base_uri": "https://localhost:8080/",
          "height": 231
        },
        "outputId": "780a8f71-5d29-4e7c-c8ea-d49fa4c356cf"
      },
      "cell_type": "code",
      "source": [
        "import numpy as np\n",
        "import matplotlib.pyplot as plt\n",
        "import os\n",
        "import cv2\n",
        "\n",
        "IMG_SIZE = 100\n",
        "\n",
        "DATADIR = DATA_PATH + \"PetImages\"\n",
        "\n",
        "CATEGORIES = [\"Dog\", \"Cat\"]\n",
        "\n",
        "training_data = []\n",
        "\n",
        "for category in CATEGORIES:  # do dogs and cats\n",
        "    path = os.path.join(DATADIR,category)  # create path to dogs and cats\n",
        "    class_num = CATEGORIES.index(category) #L.index(value, [start, [stop]])->integer:return first index of value.// 0(=Dog), 1(=Cat)\n",
        "    \n",
        "    for img in os.listdir(path):  # iterate over each image per dogs and cats\n",
        "      try:                        #Try and Except in Python ; If no exception, Try is executed. If any exception, Except is excuted\n",
        "        img_array = cv2.imread(os.path.join(path,img) ,cv2.IMREAD_GRAYSCALE)  #cv2.read(image file, parms)/convert to array        \n",
        "        new_array = cv2.resize(img_array, (IMG_SIZE, IMG_SIZE))  # resize to normalize data size\n",
        "        training_data.append([new_array, class_num])  # add this to our training_data\n",
        "      except Exception as e:  # in the interest in keeping the output clean...\n",
        "        pass"
      ],
      "execution_count": 1,
      "outputs": [
        {
          "output_type": "error",
          "ename": "NameError",
          "evalue": "ignored",
          "traceback": [
            "\u001b[0;31m---------------------------------------------------------------------------\u001b[0m",
            "\u001b[0;31mNameError\u001b[0m                                 Traceback (most recent call last)",
            "\u001b[0;32m<ipython-input-1-39b8107ca6a4>\u001b[0m in \u001b[0;36m<module>\u001b[0;34m()\u001b[0m\n\u001b[1;32m      6\u001b[0m \u001b[0mIMG_SIZE\u001b[0m \u001b[0;34m=\u001b[0m \u001b[0;36m100\u001b[0m\u001b[0;34m\u001b[0m\u001b[0m\n\u001b[1;32m      7\u001b[0m \u001b[0;34m\u001b[0m\u001b[0m\n\u001b[0;32m----> 8\u001b[0;31m \u001b[0mDATADIR\u001b[0m \u001b[0;34m=\u001b[0m \u001b[0mDATA_PATH\u001b[0m \u001b[0;34m+\u001b[0m \u001b[0;34m\"PetImages\"\u001b[0m\u001b[0;34m\u001b[0m\u001b[0m\n\u001b[0m\u001b[1;32m      9\u001b[0m \u001b[0;34m\u001b[0m\u001b[0m\n\u001b[1;32m     10\u001b[0m \u001b[0mCATEGORIES\u001b[0m \u001b[0;34m=\u001b[0m \u001b[0;34m[\u001b[0m\u001b[0;34m\"Dog\"\u001b[0m\u001b[0;34m,\u001b[0m \u001b[0;34m\"Cat\"\u001b[0m\u001b[0;34m]\u001b[0m\u001b[0;34m\u001b[0m\u001b[0m\n",
            "\u001b[0;31mNameError\u001b[0m: name 'DATA_PATH' is not defined"
          ]
        }
      ]
    },
    {
      "metadata": {
        "id": "2JShpoJ56-Fj",
        "colab_type": "code",
        "colab": {
          "base_uri": "https://localhost:8080/",
          "height": 349
        },
        "outputId": "d9badc35-017c-42af-86a0-45261072e549"
      },
      "cell_type": "code",
      "source": [
        "# example\n",
        "plt.imshow(training_data[0][0], cmap='gray')  # graph it\n",
        "plt.show()  # display!"
      ],
      "execution_count": 7,
      "outputs": [
        {
          "output_type": "display_data",
          "data": {
            "image/png": "[encoded data removed]",
            "text/plain": [
              "<matplotlib.figure.Figure at 0x7f73483508d0>"
            ]
          },
          "metadata": {
            "tags": []
          }
        }
      ]
    },
    {
      "metadata": {
        "id": "EFiq2fQC7Gkk",
        "colab_type": "code",
        "colab": {
          "base_uri": "https://localhost:8080/",
          "height": 170
        },
        "outputId": "c1c9522d-4199-49d9-f1b2-b62dba677ce7"
      },
      "cell_type": "code",
      "source": [
        "print(len(training_data))\n",
        "print(training_data[0][0])\n",
        "print(training_data[0][0].shape , training_data[0][0].dtype , training_data[0][0].ndim)\n"
      ],
      "execution_count": 9,
      "outputs": [
        {
          "output_type": "stream",
          "text": [
            "599\n",
            "[[ 94 104  95 ... 122 100 111]\n",
            " [102 127 106 ... 153 153 134]\n",
            " [ 73  95 104 ... 115 154 143]\n",
            " ...\n",
            " [ 64  90  82 ...  24 106 104]\n",
            " [ 80  96  24 ...  95  92 129]\n",
            " [ 32  47  69 ... 115  74  82]]\n",
            "(100, 100) uint8 2\n"
          ],
          "name": "stdout"
        }
      ]
    },
    {
      "metadata": {
        "id": "GTNInHoV8EPU",
        "colab_type": "code",
        "colab": {}
      },
      "cell_type": "code",
      "source": [
        "#Random Shuffling\n",
        "import random\n",
        "\n",
        "random.shuffle(training_data)"
      ],
      "execution_count": 0,
      "outputs": []
    },
    {
      "metadata": {
        "id": "dPr1_A2n8Zvs",
        "colab_type": "code",
        "colab": {
          "base_uri": "https://localhost:8080/",
          "height": 51
        },
        "outputId": "26b37c30-7abb-48b1-bd77-38a1d75f0852"
      },
      "cell_type": "code",
      "source": [
        "# X, Y Label split\n",
        "X = []\n",
        "y = []\n",
        "\n",
        "for features,label in training_data:\n",
        "    X.append(features)\n",
        "    y.append(label)\n",
        "\n",
        "X = np.array(X).reshape(-1, IMG_SIZE, IMG_SIZE, 1)\n",
        "\n",
        "print(X.shape, X.dtype, X.ndim)\n",
        "print(len(y))"
      ],
      "execution_count": 11,
      "outputs": [
        {
          "output_type": "stream",
          "text": [
            "(599, 100, 100, 1) uint8 4\n",
            "599\n"
          ],
          "name": "stdout"
        }
      ]
    },
    {
      "metadata": {
        "id": "TSrBecap-sT5",
        "colab_type": "text"
      },
      "cell_type": "markdown",
      "source": [
        "## Save Data as File \n",
        "\n",
        "\n",
        "\n"
      ]
    },
    {
      "metadata": {
        "id": "vbWyiM2Y8xVU",
        "colab_type": "code",
        "colab": {}
      },
      "cell_type": "code",
      "source": [
        "# Save to a file\n",
        "import pickle\n",
        "\n",
        "pickle_out = open(DATA_PATH+\"M2_1_X.pickle\",\"wb\")\n",
        "pickle.dump(X, pickle_out)\n",
        "pickle_out.close()\n",
        "\n",
        "pickle_out = open(DATA_PATH+\"M2_1_y.pickle\",\"wb\")\n",
        "pickle.dump(y, pickle_out)\n",
        "pickle_out.close()\n"
      ],
      "execution_count": 0,
      "outputs": []
    },
    {
      "metadata": {
        "id": "e4G5yDkcqnzf",
        "colab_type": "text"
      },
      "cell_type": "markdown",
      "source": [
        "## Load Data from File"
      ]
    },
    {
      "metadata": {
        "id": "EmImQBctuBQd",
        "colab_type": "code",
        "colab": {}
      },
      "cell_type": "code",
      "source": [
        "import pickle\n",
        "\n",
        "# Read training file\n",
        "pickle_in = open(DATA_PATH+\"M2_1_X.pickle\",\"rb\")\n",
        "X = pickle.load(pickle_in)\n",
        "pickle_in.close()\n",
        "\n",
        "pickle_in = open(DATA_PATH+\"M2_1_y.pickle\",\"rb\")\n",
        "y = pickle.load(pickle_in)\n",
        "pickle_in.close()"
      ],
      "execution_count": 0,
      "outputs": []
    },
    {
      "metadata": {
        "id": "KXsauTVLGJ85",
        "colab_type": "text"
      },
      "cell_type": "markdown",
      "source": [
        "##Import for TensorBoard"
      ]
    },
    {
      "metadata": {
        "id": "X1hHdA8QGKkn",
        "colab_type": "code",
        "colab": {}
      },
      "cell_type": "code",
      "source": [
        "from tensorflow.keras.callbacks import TensorBoard     #For TensorBoard"
      ],
      "execution_count": 0,
      "outputs": []
    },
    {
      "metadata": {
        "id": "N3lDcGmVGQyx",
        "colab_type": "text"
      },
      "cell_type": "markdown",
      "source": [
        "##Set TensorBoard Directory"
      ]
    },
    {
      "metadata": {
        "id": "VC1KUwlbGSzS",
        "colab_type": "code",
        "colab": {}
      },
      "cell_type": "code",
      "source": [
        "LOG_DIR = './log'\n",
        "get_ipython().system_raw(\n",
        "    'tensorboard --logdir {} --host 0.0.0.0 --port 6006 &'\n",
        "    .format(LOG_DIR)\n",
        ")"
      ],
      "execution_count": 0,
      "outputs": []
    },
    {
      "metadata": {
        "id": "KNhv6O-aGWPz",
        "colab_type": "text"
      },
      "cell_type": "markdown",
      "source": [
        "##Run ngrok"
      ]
    },
    {
      "metadata": {
        "id": "Vu3j_rMfGWez",
        "colab_type": "code",
        "colab": {}
      },
      "cell_type": "code",
      "source": [
        "get_ipython().system_raw('./ngrok http 6006 &')"
      ],
      "execution_count": 0,
      "outputs": []
    },
    {
      "metadata": {
        "id": "NAx-vpDgGeip",
        "colab_type": "text"
      },
      "cell_type": "markdown",
      "source": [
        "##Get URL"
      ]
    },
    {
      "metadata": {
        "id": "SWuT3rJmGhhP",
        "colab_type": "code",
        "colab": {
          "base_uri": "https://localhost:8080/",
          "height": 34
        },
        "outputId": "3f1a02e4-a3e2-40ea-cf29-bc52d37c23ed"
      },
      "cell_type": "code",
      "source": [
        "!curl -s http://localhost:4040/api/tunnels | python3 -c \\\n",
        "    \"import sys, json; print(json.load(sys.stdin)['tunnels'][0]['public_url'])\""
      ],
      "execution_count": 17,
      "outputs": [
        {
          "output_type": "stream",
          "text": [
            "http://b60ebd2c.ngrok.io\n"
          ],
          "name": "stdout"
        }
      ]
    },
    {
      "metadata": {
        "id": "gKLgJQ8TGk_4",
        "colab_type": "text"
      },
      "cell_type": "markdown",
      "source": [
        "##TensorBoard Initialization"
      ]
    },
    {
      "metadata": {
        "id": "ZJZRV7DXGnJr",
        "colab_type": "code",
        "colab": {}
      },
      "cell_type": "code",
      "source": [
        "tbCallBack = TensorBoard(log_dir='./log', histogram_freq=1,          \n",
        "                         write_graph=True,   #whether to visualize the graph in TensorBoard.\n",
        "                         write_grads=True,   #whether to visualize gradient histograms in TensorBoard.  histogram_freq must be greater than 0.\n",
        "                         write_images=True)  #whether to write model weights to visualize as image in TensorBoard.\n"
      ],
      "execution_count": 0,
      "outputs": []
    },
    {
      "metadata": {
        "id": "XnOJ1ufB_rSI",
        "colab_type": "text"
      },
      "cell_type": "markdown",
      "source": [
        "##Set train data & test data 8:2"
      ]
    },
    {
      "metadata": {
        "id": "ymp-BpQU-rtl",
        "colab_type": "code",
        "colab": {
          "base_uri": "https://localhost:8080/",
          "height": 51
        },
        "outputId": "f00c90fd-4393-42db-a197-b452507ab7ce"
      },
      "cell_type": "code",
      "source": [
        "X = X/255.0\n",
        "\n",
        "TRAIN_RATIO = 0.8\n",
        "\n",
        "X_train = X[:int(len(X)*TRAIN_RATIO)]\n",
        "y_train = y[:int(len(y)*TRAIN_RATIO)]\n",
        "\n",
        "X_test = X[int(len(X)*TRAIN_RATIO):]\n",
        "y_test = y[int(len(y)*TRAIN_RATIO):]\n",
        "\n",
        "print(X_train.shape, X_train.dtype, X_train.ndim)\n",
        "print(len(y_train))"
      ],
      "execution_count": 19,
      "outputs": [
        {
          "output_type": "stream",
          "text": [
            "(479, 100, 100, 1) float64 4\n",
            "479\n"
          ],
          "name": "stdout"
        }
      ]
    },
    {
      "metadata": {
        "id": "8km-OMhv_m-3",
        "colab_type": "text"
      },
      "cell_type": "markdown",
      "source": [
        "## Make Model : CNN Prediction\n",
        "\n",
        "* Conv2D(filters, kernel_size, strides=(1, 1), padding='valid', data_format=None, dilation_rate=(1, 1), activation=None, use_bias=True, kernel_initializer='glorot_uniform', bias_initializer='zeros', kernel_regularizer=None, bias_regularizer=None, activity_regularizer=None, kernel_constraint=None, bias_constraint=None, **kwargs)\n",
        "\n",
        "When using this layer as the first layer in a model,\n",
        "provide the keyword argument `input_shape`\n",
        "(tuple of integers, does not include the sample axis),\n",
        "e.g. `input_shape=(128, 128, 3)` for 128x128 RGB pictures\n",
        "in `data_format=\"channels_last\"`.\n",
        "\n",
        "* MaxPooling2D(pool_size=(2, 2), strides=None, padding='valid', data_format=None, **kwargs)"
      ]
    },
    {
      "metadata": {
        "id": "ha-x9Jni_jXc",
        "colab_type": "code",
        "colab": {
          "base_uri": "https://localhost:8080/",
          "height": 1071
        },
        "outputId": "2055d9d1-02eb-46ba-84c3-4c9add188151"
      },
      "cell_type": "code",
      "source": [
        "from tensorflow.keras.models import Sequential\n",
        "from tensorflow.keras.layers import Dense, Dropout, Activation, Flatten\n",
        "from tensorflow.keras.layers import Conv2D, MaxPooling2D\n",
        "\n",
        "\n",
        "model = Sequential()\n",
        "\n",
        "model.add(Conv2D(256, (3, 3), input_shape=X.shape[1:]))\n",
        "\n",
        "model.add(Activation('relu'))\n",
        "model.add(MaxPooling2D(pool_size=(2, 2)))\n",
        "\n",
        "model.add(Conv2D(256, (3, 3)))\n",
        "model.add(Activation('relu'))\n",
        "model.add(MaxPooling2D(pool_size=(2, 2)))\n",
        "\n",
        "model.add(Flatten())  # this converts our 3D feature maps to 1D feature vectors\n",
        "\n",
        "model.add(Dense(64))\n",
        "\n",
        "model.add(Dense(1))\n",
        "model.add(Activation('sigmoid'))\n",
        "\n",
        "model.compile(loss='binary_crossentropy',\n",
        "              optimizer='adam',\n",
        "              metrics=['accuracy'])\n",
        "\n",
        "model.fit(X_train, y_train, batch_size=64, epochs=30, validation_split=0.3, callbacks=[tbCallBack])"
      ],
      "execution_count": 20,
      "outputs": [
        {
          "output_type": "stream",
          "text": [
            "Train on 335 samples, validate on 144 samples\n",
            "Epoch 1/30\n",
            "335/335 [==============================] - 37s 112ms/step - loss: 1.6162 - acc: 0.5373 - val_loss: 0.6851 - val_acc: 0.5694\n",
            "Epoch 2/30\n",
            "335/335 [==============================] - 28s 85ms/step - loss: 0.6968 - acc: 0.4866 - val_loss: 0.6918 - val_acc: 0.5764\n",
            "Epoch 3/30\n",
            "335/335 [==============================] - 28s 82ms/step - loss: 0.6932 - acc: 0.5343 - val_loss: 0.7056 - val_acc: 0.4097\n",
            "Epoch 4/30\n",
            "335/335 [==============================] - 28s 82ms/step - loss: 0.6755 - acc: 0.6269 - val_loss: 0.7871 - val_acc: 0.4306\n",
            "Epoch 5/30\n",
            "335/335 [==============================] - 30s 91ms/step - loss: 0.6813 - acc: 0.5284 - val_loss: 0.7185 - val_acc: 0.4722\n",
            "Epoch 6/30\n",
            "335/335 [==============================] - 27s 81ms/step - loss: 0.6422 - acc: 0.6358 - val_loss: 0.7706 - val_acc: 0.4514\n",
            "Epoch 7/30\n",
            "335/335 [==============================] - 27s 82ms/step - loss: 0.6060 - acc: 0.6657 - val_loss: 0.6853 - val_acc: 0.5625\n",
            "Epoch 8/30\n",
            "335/335 [==============================] - 28s 85ms/step - loss: 0.5590 - acc: 0.7403 - val_loss: 0.7330 - val_acc: 0.5347\n",
            "Epoch 9/30\n",
            "335/335 [==============================] - 28s 84ms/step - loss: 0.5089 - acc: 0.7552 - val_loss: 0.7689 - val_acc: 0.5417\n",
            "Epoch 10/30\n",
            "335/335 [==============================] - 31s 94ms/step - loss: 0.4422 - acc: 0.8119 - val_loss: 0.8240 - val_acc: 0.5139\n",
            "Epoch 11/30\n",
            "335/335 [==============================] - 32s 94ms/step - loss: 0.3948 - acc: 0.8388 - val_loss: 0.8753 - val_acc: 0.5278\n",
            "Epoch 12/30\n",
            "335/335 [==============================] - 31s 91ms/step - loss: 0.3317 - acc: 0.8776 - val_loss: 0.9775 - val_acc: 0.5000\n",
            "Epoch 13/30\n",
            "335/335 [==============================] - 30s 89ms/step - loss: 0.3012 - acc: 0.8955 - val_loss: 0.9929 - val_acc: 0.4931\n",
            "Epoch 14/30\n",
            "335/335 [==============================] - 31s 92ms/step - loss: 0.2190 - acc: 0.9313 - val_loss: 1.2377 - val_acc: 0.5347\n",
            "Epoch 15/30\n",
            "335/335 [==============================] - 31s 92ms/step - loss: 0.1896 - acc: 0.9313 - val_loss: 1.1848 - val_acc: 0.5486\n",
            "Epoch 16/30\n",
            "335/335 [==============================] - 32s 94ms/step - loss: 0.1453 - acc: 0.9582 - val_loss: 1.4187 - val_acc: 0.5208\n",
            "Epoch 17/30\n",
            "335/335 [==============================] - 30s 89ms/step - loss: 0.0992 - acc: 0.9791 - val_loss: 1.6140 - val_acc: 0.5208\n",
            "Epoch 18/30\n",
            "335/335 [==============================] - 29s 86ms/step - loss: 0.0593 - acc: 0.9940 - val_loss: 1.9306 - val_acc: 0.5000\n",
            "Epoch 19/30\n",
            "335/335 [==============================] - 30s 89ms/step - loss: 0.0541 - acc: 0.9881 - val_loss: 2.0002 - val_acc: 0.4861\n",
            "Epoch 20/30\n",
            "335/335 [==============================] - 30s 89ms/step - loss: 0.0331 - acc: 1.0000 - val_loss: 1.6926 - val_acc: 0.4931\n",
            "Epoch 21/30\n",
            "335/335 [==============================] - 32s 97ms/step - loss: 0.0312 - acc: 1.0000 - val_loss: 1.8488 - val_acc: 0.5000\n",
            "Epoch 22/30\n",
            "335/335 [==============================] - 33s 99ms/step - loss: 0.0232 - acc: 1.0000 - val_loss: 2.1300 - val_acc: 0.4931\n",
            "Epoch 23/30\n",
            "335/335 [==============================] - 34s 103ms/step - loss: 0.0171 - acc: 1.0000 - val_loss: 2.5251 - val_acc: 0.4861\n",
            "Epoch 24/30\n",
            "335/335 [==============================] - 32s 95ms/step - loss: 0.0125 - acc: 1.0000 - val_loss: 2.3243 - val_acc: 0.5139\n",
            "Epoch 25/30\n",
            "335/335 [==============================] - 31s 93ms/step - loss: 0.0065 - acc: 1.0000 - val_loss: 2.5724 - val_acc: 0.5000\n",
            "Epoch 26/30\n",
            "335/335 [==============================] - 33s 98ms/step - loss: 0.0052 - acc: 1.0000 - val_loss: 2.4634 - val_acc: 0.5069\n",
            "Epoch 27/30\n",
            "335/335 [==============================] - 31s 94ms/step - loss: 0.0038 - acc: 1.0000 - val_loss: 2.6296 - val_acc: 0.5069\n",
            "Epoch 28/30\n",
            "335/335 [==============================] - 31s 94ms/step - loss: 0.0034 - acc: 1.0000 - val_loss: 2.6035 - val_acc: 0.5139\n",
            "Epoch 29/30\n",
            "335/335 [==============================] - 32s 94ms/step - loss: 0.0026 - acc: 1.0000 - val_loss: 2.6467 - val_acc: 0.5069\n",
            "Epoch 30/30\n",
            "335/335 [==============================] - 31s 93ms/step - loss: 0.0023 - acc: 1.0000 - val_loss: 2.7783 - val_acc: 0.5208\n"
          ],
          "name": "stdout"
        },
        {
          "output_type": "execute_result",
          "data": {
            "text/plain": [
              "<tensorflow.python.keras.callbacks.History at 0x7f7307ce1320>"
            ]
          },
          "metadata": {
            "tags": []
          },
          "execution_count": 20
        }
      ]
    },
    {
      "metadata": {
        "id": "ELITs4ROAhNt",
        "colab_type": "code",
        "colab": {
          "base_uri": "https://localhost:8080/",
          "height": 51
        },
        "outputId": "1a14a30d-8731-41f3-fc49-ffae87d4f532"
      },
      "cell_type": "code",
      "source": [
        "score = model.evaluate(X_test, y_test, batch_size=64, verbose=0)\n",
        "print('Test loss:', score[0])\n",
        "print('Test accuracy:', score[1])"
      ],
      "execution_count": 21,
      "outputs": [
        {
          "output_type": "stream",
          "text": [
            "Test loss: 1.7484175125757853\n",
            "Test accuracy: 0.6166666626930237\n"
          ],
          "name": "stdout"
        }
      ]
    },
    {
      "metadata": {
        "id": "HgWXl4HQq95d",
        "colab_type": "text"
      },
      "cell_type": "markdown",
      "source": [
        "## Save the model as file"
      ]
    },
    {
      "metadata": {
        "id": "ICZ1lJclA5bN",
        "colab_type": "code",
        "colab": {}
      },
      "cell_type": "code",
      "source": [
        "model.save(DATA_PATH+\"256x2-CNN.model\")"
      ],
      "execution_count": 0,
      "outputs": []
    },
    {
      "metadata": {
        "id": "uEQIDzcirGHs",
        "colab_type": "text"
      },
      "cell_type": "markdown",
      "source": [
        "## Load the model"
      ]
    },
    {
      "metadata": {
        "id": "SGclTprXrKYI",
        "colab_type": "code",
        "colab": {}
      },
      "cell_type": "code",
      "source": [
        "import tensorflow as tf\n",
        "\n",
        "model = tf.keras.models.load_model(DATA_PATH+\"256x2-CNN.model\")"
      ],
      "execution_count": 0,
      "outputs": []
    },
    {
      "metadata": {
        "id": "Sj0No5cRrfYl",
        "colab_type": "text"
      },
      "cell_type": "markdown",
      "source": [
        "##Prediction"
      ]
    },
    {
      "metadata": {
        "id": "Mw4o-dmarf3U",
        "colab_type": "code",
        "colab": {
          "base_uri": "https://localhost:8080/",
          "height": 51
        },
        "outputId": "8d4e67d4-5bfb-453a-f74b-bd4243cc657f"
      },
      "cell_type": "code",
      "source": [
        "prediction = model.predict_classes(X_test)\n",
        "print(\"Prediction\", list(prediction[:10].reshape(-1)))\n",
        "print(\"True Lable\", y_test[:10])"
      ],
      "execution_count": 24,
      "outputs": [
        {
          "output_type": "stream",
          "text": [
            "Prediction [1, 0, 1, 0, 1, 1, 0, 0, 0, 1]\n",
            "True Lable [1, 0, 1, 0, 0, 1, 0, 1, 1, 0]\n"
          ],
          "name": "stdout"
        }
      ]
    },
    {
      "metadata": {
        "id": "EeHoV4IJrqp5",
        "colab_type": "text"
      },
      "cell_type": "markdown",
      "source": [
        "##Retrain\n"
      ]
    },
    {
      "metadata": {
        "id": "QDe1JpwzrrCo",
        "colab_type": "code",
        "colab": {
          "base_uri": "https://localhost:8080/",
          "height": 391
        },
        "outputId": "84f2002a-b765-4cdf-bf57-27031d110be5"
      },
      "cell_type": "code",
      "source": [
        "model.fit(X_train, y_train, batch_size=64, epochs=10, validation_split=0.3)"
      ],
      "execution_count": 25,
      "outputs": [
        {
          "output_type": "stream",
          "text": [
            "Train on 335 samples, validate on 144 samples\n",
            "Epoch 1/10\n",
            "335/335 [==============================] - 2s 6ms/step - loss: 0.0020 - acc: 1.0000 - val_loss: 2.7266 - val_acc: 0.5069\n",
            "Epoch 2/10\n",
            "335/335 [==============================] - 1s 4ms/step - loss: 0.0018 - acc: 1.0000 - val_loss: 2.8217 - val_acc: 0.5139\n",
            "Epoch 3/10\n",
            "335/335 [==============================] - 1s 4ms/step - loss: 0.0015 - acc: 1.0000 - val_loss: 2.7464 - val_acc: 0.5139\n",
            "Epoch 4/10\n",
            "335/335 [==============================] - 1s 4ms/step - loss: 0.0014 - acc: 1.0000 - val_loss: 2.8255 - val_acc: 0.5278\n",
            "Epoch 5/10\n",
            "335/335 [==============================] - 1s 4ms/step - loss: 0.0013 - acc: 1.0000 - val_loss: 2.8519 - val_acc: 0.5347\n",
            "Epoch 6/10\n",
            "335/335 [==============================] - 1s 4ms/step - loss: 0.0012 - acc: 1.0000 - val_loss: 2.8706 - val_acc: 0.5278\n",
            "Epoch 7/10\n",
            "335/335 [==============================] - 1s 4ms/step - loss: 0.0011 - acc: 1.0000 - val_loss: 2.9113 - val_acc: 0.5278\n",
            "Epoch 8/10\n",
            "335/335 [==============================] - 1s 4ms/step - loss: 0.0010 - acc: 1.0000 - val_loss: 2.9088 - val_acc: 0.5347\n",
            "Epoch 9/10\n",
            "335/335 [==============================] - 1s 4ms/step - loss: 9.4970e-04 - acc: 1.0000 - val_loss: 2.9277 - val_acc: 0.5347\n",
            "Epoch 10/10\n",
            "335/335 [==============================] - 1s 4ms/step - loss: 9.2494e-04 - acc: 1.0000 - val_loss: 2.9728 - val_acc: 0.5347\n"
          ],
          "name": "stdout"
        },
        {
          "output_type": "execute_result",
          "data": {
            "text/plain": [
              "<tensorflow.python.keras.callbacks.History at 0x7f7300311048>"
            ]
          },
          "metadata": {
            "tags": []
          },
          "execution_count": 25
        }
      ]
    },
    {
      "metadata": {
        "id": "aKlz3QLvr1qP",
        "colab_type": "code",
        "colab": {
          "base_uri": "https://localhost:8080/",
          "height": 51
        },
        "outputId": "5dfe48d8-e9a8-4bd4-c983-add50cf6d213"
      },
      "cell_type": "code",
      "source": [
        "prediction = model.predict_classes(X_test)\n",
        "print(\"Prediction\", list(prediction[:10].reshape(-1)))\n",
        "print(\"True Lable\", y_test[:10])"
      ],
      "execution_count": 26,
      "outputs": [
        {
          "output_type": "stream",
          "text": [
            "Prediction [1, 0, 1, 0, 1, 1, 0, 0, 0, 1]\n",
            "True Lable [1, 0, 1, 0, 0, 1, 0, 1, 1, 0]\n"
          ],
          "name": "stdout"
        }
      ]
    },
    {
      "metadata": {
        "id": "f8XwRD_Vt8R4",
        "colab_type": "text"
      },
      "cell_type": "markdown",
      "source": [
        "## Check Model by outside file"
      ]
    },
    {
      "metadata": {
        "id": "dm0889xWt8va",
        "colab_type": "code",
        "colab": {
          "base_uri": "https://localhost:8080/",
          "height": 51
        },
        "outputId": "6634eafc-0795-4616-f8f3-926793e4bc15"
      },
      "cell_type": "code",
      "source": [
        "import cv2\n",
        "#import tensorflow as tf\n",
        "\n",
        "CATEGORIES = [\"Dog\", \"Cat\"] # will use this to convert prediction num to string value\n",
        "\n",
        "\n",
        "\n",
        "def prepare(filepath):\n",
        "#   IMG_SIZE = 100  # 50 in txt-based\n",
        "    img_array = cv2.imread(filepath, cv2.IMREAD_GRAYSCALE)  # read in the image, convert to grayscale\n",
        "    new_array = cv2.resize(img_array, (IMG_SIZE, IMG_SIZE))  # resize image to match model's expected sizing\n",
        "    return new_array.reshape(-1, IMG_SIZE, IMG_SIZE, 1)  # return the image with shaping that TF wants.\n",
        "\n",
        "\n",
        "#model = tf.keras.models.load_model(\"256x2-CNN.model\")  # Load model\n",
        "\n",
        "predic_data = prepare(DATA_PATH+\"dog2.jpg\")\n",
        "prediction = model.predict(predic_data) # REMEMBER YOU'RE PASSING A LIST OF THINGS YOU WISH TO PREDICT\n",
        "\n",
        "print(prediction)  # will be a list in a list.\n",
        "print(CATEGORIES[int(prediction[0][0])])\n"
      ],
      "execution_count": 73,
      "outputs": [
        {
          "output_type": "stream",
          "text": [
            "[[0.]]\n",
            "Dog\n"
          ],
          "name": "stdout"
        }
      ]
    },
    {
      "metadata": {
        "id": "cjhNDalQws7G",
        "colab_type": "code",
        "colab": {
          "base_uri": "https://localhost:8080/",
          "height": 349
        },
        "outputId": "bc28a074-9faf-42a3-d217-c813f0510226"
      },
      "cell_type": "code",
      "source": [
        "draw_data=np.reshape(predic_data,(IMG_SIZE, IMG_SIZE))\n",
        "plt.imshow(draw_data, cmap='gray')  # graph it\n",
        "plt.show()  # display!"
      ],
      "execution_count": 74,
      "outputs": [
        {
          "output_type": "display_data",
          "data": {
            "image/png": "[encoded data removed]",
            "text/plain": [
              "<matplotlib.figure.Figure at 0x7f72ef897940>"
            ]
          },
          "metadata": {
            "tags": []
          }
        }
      ]
    }
  ]
}